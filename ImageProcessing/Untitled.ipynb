{
 "cells": [
  {
   "cell_type": "code",
   "execution_count": null,
   "metadata": {},
   "outputs": [
    {
     "name": "stdout",
     "output_type": "stream",
     "text": [
      "3\n",
      "[<KeyPoint 0x7fc1b406d990>, <KeyPoint 0x7fc18cca70f0>, <KeyPoint 0x7fc1ba133bd0>]\n"
     ]
    }
   ],
   "source": [
    "import numpy as np\n",
    "import cv2\n",
    "import matplotlib.pyplot as plt\n",
    "cv2.namedWindow('image', cv2.WINDOW_NORMAL)\n",
    "cv2.resizeWindow('image', 800, 600)\n",
    "#https://www.programcreek.com/python/example/89350/cv2.SimpleBlobDetector\n",
    "img = cv2.imread('Data/water_coins.jpg',cv2.IMREAD_GRAYSCALE)\n",
    "\n",
    "roi_size=(128, 128)\n",
    "img = cv2.resize(img, roi_size)\n",
    "\n",
    "blob_min_area=3\n",
    "blob_min_int=.5\n",
    "blob_max_int=.95\n",
    "blob_th_step=10\n",
    "\n",
    "params = cv2.SimpleBlobDetector_Params()\n",
    "params.filterByArea = True\n",
    "params.minArea = blob_min_area\n",
    "params.maxArea = roi_size[0]*roi_size[1]\n",
    "params.filterByCircularity = False\n",
    "params.filterByColor = True\n",
    "params.filterByConvexity = False\n",
    "params.filterByInertia = False\n",
    "# blob detection only works with \"uint8\" images.\n",
    "params.minThreshold = int(blob_min_int*255)\n",
    "params.maxThreshold = int(blob_max_int*255)\n",
    "params.thresholdStep = blob_th_step\n",
    "ver = (cv2.__version__).split('.')\n",
    "    \n",
    "if int(ver[0]) < 3:\n",
    "    detector = cv2.SimpleBlobDetector(params)\n",
    "else: \n",
    "    detector = cv2.SimpleBlobDetector_create(params)\n",
    "     \n",
    "# Detect blobs.\n",
    "keypoints = detector.detect(img)\n",
    "print(len(keypoints))\n",
    "print(keypoints)\n",
    "im_with_keypoints = cv2.drawKeypoints(img, keypoints, np.array([]),\n",
    "            (0,0,255), cv2.DRAW_MATCHES_FLAGS_DRAW_RICH_KEYPOINTS)\n",
    "cv2.imwrite(\"blobs.jpg\", im_with_keypoints); \n",
    "cv2.imshow('image',img)\n",
    "cv2.waitKey(0)\n",
    "\n",
    "\n",
    "cv2.destroyAllWindows()\n",
    "\n"
   ]
  },
  {
   "cell_type": "code",
   "execution_count": null,
   "metadata": {},
   "outputs": [],
   "source": []
  },
  {
   "cell_type": "code",
   "execution_count": null,
   "metadata": {},
   "outputs": [],
   "source": []
  }
 ],
 "metadata": {
  "kernelspec": {
   "display_name": "Python 3",
   "language": "python",
   "name": "python3"
  },
  "language_info": {
   "codemirror_mode": {
    "name": "ipython",
    "version": 3
   },
   "file_extension": ".py",
   "mimetype": "text/x-python",
   "name": "python",
   "nbconvert_exporter": "python",
   "pygments_lexer": "ipython3",
   "version": "3.5.2"
  }
 },
 "nbformat": 4,
 "nbformat_minor": 2
}
